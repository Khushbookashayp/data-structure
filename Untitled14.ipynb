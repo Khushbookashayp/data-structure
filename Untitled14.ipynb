{
  "metadata": {
    "kernelspec": {
      "name": "python",
      "display_name": "Python (Pyodide)",
      "language": "python"
    },
    "language_info": {
      "codemirror_mode": {
        "name": "python",
        "version": 3
      },
      "file_extension": ".py",
      "mimetype": "text/x-python",
      "name": "python",
      "nbconvert_exporter": "python",
      "pygments_lexer": "ipython3",
      "version": "3.8"
    }
  },
  "nbformat_minor": 5,
  "nbformat": 4,
  "cells": [
    {
      "id": "d1985a35-f8a4-475a-87d7-8cb24ae163a9",
      "cell_type": "markdown",
      "source": "# ",
      "metadata": {}
    },
    {
      "id": "0228f657-3202-4e54-8c86-14132a526555",
      "cell_type": "code",
      "source": "#1 What are data structures, and why are they important3\n.Data structures are a way of organizing and storing data in a computer so that it can be used efficiently\n#2 Explain the difference between mutable and immutable data types with examples\n.In programming, mutable data types can be modified after their creation, while immutable data types cannot\n#3 What are the main differences between lists and tuples in Python3\n .Lists are mutable, meaning their elements can be changed, added, or removed after creation. Tuples are immutable, meaning their elements cannot be modified, added, or removed once the tuple is created\n#4 Describe how dictionaries store data\n.Dictionaries are used to store data values in key:value pairs. \n#5 Why might you use a set instead of a list in Python3\n\n#6 What is a string in Python, and how is it different from a list\n.Strings in Python are sequences of characters enclosed in quotes ('' or “”). Lists are ordered collections of items enclosed in square brackets []. 2) Strings are immutable, meaning they cannot be changed once created, while lists are mutable and can be modified as needed.\n#7 How do tuples ensure data integrity in Python\n.A tuple is an immutable data structure. Once created, its content cannot be modified: neither the elements nor the size. \n#8 What is a hash table, and how does it relate to dictionaries in Python3\n.A hash table is a data structure that offers an efficient way to organize data for quick access. A key is transformed into an index (a process known as hashing) of an array element where the corresponding value is stored.\n#9 Can lists contain different data types in Python\n.lists in Python can contain elements of different data types. This is a fundamental characteristic of Python lists, making them highly versatile. \nFor example, a single Python list can hold a combination of: \nIntegers\nFloats\nStrings\nBooleans\n#10 Explain why strings are immutable in PythonP\n.Strings are immutable in Python, meaning their content cannot be changed after they are created. This design choice offers several benefits\n#11 What advantages do dictionaries offer over lists for certain tasks\n.fast lookups, key-value associations, and complex data mappings, while lists are ideal for ordered collections, sequential processing, and simple data storage.\n#12 Describe a scenario where using a tuple would be preferable over a list\n.if you want the data in your collection to be read-only, never to change, and always remain the same and constant.\n#13 How do sets handle duplicate values in Python\n.Python sets are inherently designed to store only unique elements. This means that sets automatically handle duplicate values by disallowing their presence.\n#14 How does the “in” keyword work differently for lists and dictionaries\n.As mentioned above, the in operation for the dictionary tests on keys. The key of the dictionary is a unique value as well as the set, and the execution time is about the same as for sets. On the other hand, dictionary values can be duplicated like a list.\n#15 Can you modify the elements of a tuple? Explain why or why not\n.Tuples are immutable, meaning their contents cannot be changed after creation. This immutability is a core characteristic of tuples. \n#16 What is a nested dictionary, and give an example of its use case\n\n#17 Describe the time complexity of accessing elements in a dictionary\n.Accessing elements in a dictionary (also known as a hash map or associative array) typically has a time complexity of O(1) on average, which means it takes constant time regardless of the dictionary's size.\n#18 In what situations are lists preferred over dictionaries3\n.Lists are generally preferred over dictionaries when the order of elements is important and when you need to store multiple values for the same key\n#19 Why are dictionaries considered unordered, and how does that affect data retrieval\n.In python, dictionaries are un-ordered because Python dictionaries are not intended to be in order\n#20 Explain the difference between a list and a dictionary in terms of data retrieval.\n.Lists retrieve elements based on their numerical index (position), while dictionaries retrieve\n\n",
      "metadata": {
        "trusted": true
      },
      "outputs": [],
      "execution_count": null
    },
    {
      "id": "d954f1a0-dc86-46ba-a948-e498cf290f96",
      "cell_type": "code",
      "source": "#Practical Questions\n#1 Write a code to create a string with your name and print it\nname = \"kunal\"\nprint(name)",
      "metadata": {
        "trusted": true
      },
      "outputs": [
        {
          "name": "stdout",
          "output_type": "stream",
          "text": "kunal\n"
        }
      ],
      "execution_count": 1
    },
    {
      "id": "45646098-6706-4c30-b151-0c3d58195f37",
      "cell_type": "code",
      "source": "#2Write a code to find the length of the string \"Hello World\"P\nA=\"hello world\"\nlen(A)",
      "metadata": {
        "trusted": true
      },
      "outputs": [
        {
          "execution_count": 2,
          "output_type": "execute_result",
          "data": {
            "text/plain": "11"
          },
          "metadata": {}
        }
      ],
      "execution_count": 2
    },
    {
      "id": "aed58689-0b88-435e-9e13-1a4f45e0518d",
      "cell_type": "code",
      "source": "#3Write a code to slice the first 3 characters from the string \"Python Programming\"P\nA= \"python programming\"\nA[0:3]",
      "metadata": {
        "trusted": true
      },
      "outputs": [
        {
          "execution_count": 3,
          "output_type": "execute_result",
          "data": {
            "text/plain": "'pyt'"
          },
          "metadata": {}
        }
      ],
      "execution_count": 3
    },
    {
      "id": "dbeac1e1-8da6-4f32-9225-8241038687c5",
      "cell_type": "code",
      "source": "#4 Write a code to convert the string \"hello\" to uppercase\nA=\"hello\"\nA.upper()",
      "metadata": {
        "trusted": true
      },
      "outputs": [
        {
          "execution_count": 4,
          "output_type": "execute_result",
          "data": {
            "text/plain": "'HELLO'"
          },
          "metadata": {}
        }
      ],
      "execution_count": 4
    },
    {
      "id": "6483ef07-96b9-4b8d-a0ac-80a231d9bc81",
      "cell_type": "code",
      "source": "#5 Write a code to replace the word \"apple\" with \"orange\" in the string \"I like apple\"P\nA =\"apple is fruit\"\nA.replace(\"apple\",\"orange\")",
      "metadata": {
        "trusted": true
      },
      "outputs": [
        {
          "execution_count": 5,
          "output_type": "execute_result",
          "data": {
            "text/plain": "'orange is fruit'"
          },
          "metadata": {}
        }
      ],
      "execution_count": 5
    },
    {
      "id": "fd864e2d-456a-4e62-a2c7-f503d9006b1d",
      "cell_type": "code",
      "source": "#6 Write a code to create a list with numbers 1 to 5 and print itP\nA=[1,2,3,4,5,6,7,8,9]\nprint(A)",
      "metadata": {
        "trusted": true
      },
      "outputs": [
        {
          "name": "stdout",
          "output_type": "stream",
          "text": "[1, 2, 3, 4, 5, 6, 7, 8, 9]\n"
        }
      ],
      "execution_count": 7
    },
    {
      "id": "abeede21-773e-447f-b8db-868afd608370",
      "cell_type": "code",
      "source": "#7 Write a code to create a list with numbers 1 to 5 and print itP\nA =[1,2,3,4]\nA.append(10)",
      "metadata": {
        "trusted": true
      },
      "outputs": [],
      "execution_count": 9
    },
    {
      "id": "265f69dc-e220-4e1a-b3ac-6178fc113e41",
      "cell_type": "code",
      "source": "A",
      "metadata": {
        "trusted": true
      },
      "outputs": [
        {
          "execution_count": 10,
          "output_type": "execute_result",
          "data": {
            "text/plain": "[1, 2, 3, 4, 10]"
          },
          "metadata": {}
        }
      ],
      "execution_count": 10
    },
    {
      "id": "5c7f038f-79d8-430f-93d1-085f45d2100a",
      "cell_type": "code",
      "source": "#8 Write a code to remove the number 3 from the list [1, 2, 3, 4, 5]\nA=[1, 2, 3, 4, 5]\nA.pop(2)\n",
      "metadata": {
        "trusted": true
      },
      "outputs": [
        {
          "execution_count": 12,
          "output_type": "execute_result",
          "data": {
            "text/plain": "3"
          },
          "metadata": {}
        }
      ],
      "execution_count": 12
    },
    {
      "id": "7cf3dafa-5a8b-4d1a-a78f-e54068b4bd9e",
      "cell_type": "code",
      "source": "A",
      "metadata": {
        "trusted": true
      },
      "outputs": [
        {
          "execution_count": 13,
          "output_type": "execute_result",
          "data": {
            "text/plain": "[1, 2, 4, 5]"
          },
          "metadata": {}
        }
      ],
      "execution_count": 13
    },
    {
      "id": "20547221-2289-4330-b971-a2e45d37a61a",
      "cell_type": "code",
      "source": "#9 Write a code to access the second element in the list ['a', 'b', 'c', 'd']P\nA=['a', 'b', 'c', 'd']\nA[1]",
      "metadata": {
        "trusted": true
      },
      "outputs": [
        {
          "execution_count": 14,
          "output_type": "execute_result",
          "data": {
            "text/plain": "'b'"
          },
          "metadata": {}
        }
      ],
      "execution_count": 14
    },
    {
      "id": "41d8cb53-7334-4a16-8b6b-77f08de7554c",
      "cell_type": "code",
      "source": "#10 Write a code to reverse the list [10, 20, 30, 40, 50]\nA=[10, 20, 30, 40, 50]\nA[::-1]",
      "metadata": {
        "trusted": true
      },
      "outputs": [
        {
          "execution_count": 16,
          "output_type": "execute_result",
          "data": {
            "text/plain": "[50, 40, 30, 20, 10]"
          },
          "metadata": {}
        }
      ],
      "execution_count": 16
    },
    {
      "id": "c30945b9-9db4-4496-b2d7-f3e3b0dc37a3",
      "cell_type": "code",
      "source": "#11 Write a code to create a tuple with the elements 100, 200, 300 and print it.\nA =(100,200,300)\nprint(A)",
      "metadata": {
        "trusted": true
      },
      "outputs": [
        {
          "name": "stdout",
          "output_type": "stream",
          "text": "(100, 200, 300)\n"
        }
      ],
      "execution_count": 17
    },
    {
      "id": "21a0fb76-7529-4818-9a32-d5edbce3d52f",
      "cell_type": "code",
      "source": "#12 Write a code to access the second-to-last element of the tuple ('red', 'green', 'blue', 'yellow')\nA=('red', 'green', 'blue', 'yellow')\nA[2]",
      "metadata": {
        "trusted": true
      },
      "outputs": [
        {
          "execution_count": 19,
          "output_type": "execute_result",
          "data": {
            "text/plain": "'blue'"
          },
          "metadata": {}
        }
      ],
      "execution_count": 19
    },
    {
      "id": "f1cd6672-8a89-458a-a3ff-acfa9f4f1f00",
      "cell_type": "code",
      "source": "#13. Write a code to find the minimum number in the tuple (10, 20, 5, 15)\nA=(10, 20, 5, 15)\nb =min(A)",
      "metadata": {
        "trusted": true
      },
      "outputs": [],
      "execution_count": 20
    },
    {
      "id": "269e536b-442a-418e-abe8-1c9df1e4665f",
      "cell_type": "code",
      "source": "b",
      "metadata": {
        "trusted": true
      },
      "outputs": [
        {
          "execution_count": 21,
          "output_type": "execute_result",
          "data": {
            "text/plain": "5"
          },
          "metadata": {}
        }
      ],
      "execution_count": 21
    },
    {
      "id": "4cd97f0a-298b-46a6-ab6c-08db42f8051a",
      "cell_type": "code",
      "source": "#14. Write a code to find the index of the element \"cat\" in the tuple ('dog', 'cat', 'rabbit')\nA=('dog', 'cat', 'rabbit')\nA[1]",
      "metadata": {
        "trusted": true
      },
      "outputs": [
        {
          "execution_count": 22,
          "output_type": "execute_result",
          "data": {
            "text/plain": "'cat'"
          },
          "metadata": {}
        }
      ],
      "execution_count": 22
    },
    {
      "id": "f4129c21-5c48-497f-a5fd-7df03c1d377d",
      "cell_type": "code",
      "source": "#15. Write a code to create a tuple containing three different fruits and check if \"kiwi\" is in it.\nA=(\"apple\",\"banana\",\"kiwi\")\n\"kiwi\" in A",
      "metadata": {
        "trusted": true
      },
      "outputs": [
        {
          "execution_count": 26,
          "output_type": "execute_result",
          "data": {
            "text/plain": "True"
          },
          "metadata": {}
        }
      ],
      "execution_count": 26
    },
    {
      "id": "80ac0677-f1b8-451e-a439-8c1ef4ced31d",
      "cell_type": "code",
      "source": "#16. Write a code to create a set with the elements 'a', 'b', 'c' and print it.\nA={'a', 'b', 'c'}\nprint(A)",
      "metadata": {
        "trusted": true
      },
      "outputs": [
        {
          "name": "stdout",
          "output_type": "stream",
          "text": "{'b', 'c', 'a'}\n"
        }
      ],
      "execution_count": 27
    },
    {
      "id": "370a9424-9d99-4b70-9729-a30c90f7113c",
      "cell_type": "code",
      "source": "#17Write a code to clear all elements from the set {1, 2, 3, 4, 5}.\nA={1, 2, 3, 4, 5}\nA.clear()",
      "metadata": {
        "trusted": true
      },
      "outputs": [],
      "execution_count": 28
    },
    {
      "id": "66daa086-bd6d-45c8-968c-3680d4567a22",
      "cell_type": "code",
      "source": "A",
      "metadata": {
        "trusted": true
      },
      "outputs": [
        {
          "execution_count": 29,
          "output_type": "execute_result",
          "data": {
            "text/plain": "set()"
          },
          "metadata": {}
        }
      ],
      "execution_count": 29
    },
    {
      "id": "6f136fd9-80b1-480a-b3c3-5741225192e0",
      "cell_type": "code",
      "source": "#18. Write a code to remove the element 4 from the set {1, 2, 3, 4}.\nA={1, 2, 3, 4}\nA.remove(4)",
      "metadata": {
        "trusted": true
      },
      "outputs": [],
      "execution_count": 30
    },
    {
      "id": "a3c23df1-9a9b-4edb-88d2-b775c377bd97",
      "cell_type": "code",
      "source": "A",
      "metadata": {
        "trusted": true
      },
      "outputs": [
        {
          "execution_count": 31,
          "output_type": "execute_result",
          "data": {
            "text/plain": "{1, 2, 3}"
          },
          "metadata": {}
        }
      ],
      "execution_count": 31
    },
    {
      "id": "c4d30be7-05b9-4810-9568-3923f4a04afa",
      "cell_type": "code",
      "source": "#19. Write a code to find the union of two sets {1, 2, 3}{3, 4, 5} and {3, 4, 5}.\nA={1, 2, 3}\nB={3, 4, 5}\nA|B",
      "metadata": {
        "trusted": true
      },
      "outputs": [
        {
          "execution_count": 32,
          "output_type": "execute_result",
          "data": {
            "text/plain": "{1, 2, 3, 4, 5}"
          },
          "metadata": {}
        }
      ],
      "execution_count": 32
    },
    {
      "id": "7dad16c1-4ce2-44fa-bc55-54d8e60af433",
      "cell_type": "code",
      "source": "#20. Write a code to find the intersection of two sets {1, 2, 3} and {2, 3, 4}.\nA={1, 2, 3}\nB={2, 3, 4}\nA&B",
      "metadata": {
        "trusted": true
      },
      "outputs": [
        {
          "execution_count": 33,
          "output_type": "execute_result",
          "data": {
            "text/plain": "{2, 3}"
          },
          "metadata": {}
        }
      ],
      "execution_count": 33
    },
    {
      "id": "e6621391-0b3f-441c-867c-b004e16dc31f",
      "cell_type": "code",
      "source": "#21. Write a code to create a dictionary with the keys \"name\", \"age\", and \"city\", and print it.\nA={\"name\":\"kunal\",\"age\":18,\"city\":\"delhi\"}\nprint(A)",
      "metadata": {
        "trusted": true
      },
      "outputs": [
        {
          "name": "stdout",
          "output_type": "stream",
          "text": "{'name': 'kunal', 'age': 18, 'city': 'delhi'}\n"
        }
      ],
      "execution_count": 36
    },
    {
      "id": "4fefac90-ab62-4d1b-8f7d-feedd42ef417",
      "cell_type": "code",
      "source": "#22. Write a code to add a new key-value pair \"country\": \"USA\" to the dictionary {'name': 'John', 'age': 25}.\nA={'name': 'John', 'age': 25}\nA[\"country\"]=\"USA\"\nA",
      "metadata": {
        "trusted": true
      },
      "outputs": [
        {
          "execution_count": 38,
          "output_type": "execute_result",
          "data": {
            "text/plain": "{'name': 'John', 'age': 25, 'country': 'USA'}"
          },
          "metadata": {}
        }
      ],
      "execution_count": 38
    },
    {
      "id": "d61b15a3-5367-419a-bd26-24ea88c461a0",
      "cell_type": "code",
      "source": "#23. Write a code to access the value associated with the key \"name\" in the dictionary {'name': 'Alice', 'age': 30}.\nA={'name': 'Alice', 'age': 30}\nA[\"name\"]",
      "metadata": {
        "trusted": true
      },
      "outputs": [
        {
          "execution_count": 40,
          "output_type": "execute_result",
          "data": {
            "text/plain": "'Alice'"
          },
          "metadata": {}
        }
      ],
      "execution_count": 40
    },
    {
      "id": "84fe7889-eb8d-4550-9e8e-86bcc728124f",
      "cell_type": "code",
      "source": "#24. Write a code to remove the key \"age\" from the dictionary {'name': 'Bob', 'age': 22, 'city': 'New York'}.\nA={'name': 'Bob', 'age': 22, 'city': 'New York'}\ndel A[\"age\"]\nA",
      "metadata": {
        "trusted": true
      },
      "outputs": [
        {
          "execution_count": 44,
          "output_type": "execute_result",
          "data": {
            "text/plain": "{'name': 'Bob', 'city': 'New York'}"
          },
          "metadata": {}
        }
      ],
      "execution_count": 44
    },
    {
      "id": "55291801-e0fc-4cab-a079-7eaeffdbab22",
      "cell_type": "code",
      "source": "#25. Write a code to check if the key \"city\" exists in the dictionary {'name': 'Alice', 'city': 'Paris'}.\nA={'name': 'Alice', 'city': 'Paris'}\n\"city\" in A",
      "metadata": {
        "trusted": true
      },
      "outputs": [
        {
          "execution_count": 46,
          "output_type": "execute_result",
          "data": {
            "text/plain": "True"
          },
          "metadata": {}
        }
      ],
      "execution_count": 46
    },
    {
      "id": "236afc03-be24-436f-b7e5-8fb5b067c2fb",
      "cell_type": "code",
      "source": "#26. Write a code to create a list, a tuple, and a dictionary, and print them all.\nA=[1,2,3,4]\nB=(\"my name is kunal\")\nC={\"NAME\":\"kunal\",\"age\":18}\nprint(A)\nprint(B)\nprint(C)",
      "metadata": {
        "trusted": true
      },
      "outputs": [
        {
          "name": "stdout",
          "output_type": "stream",
          "text": "[1, 2, 3, 4]\nmy name is kunal\n{'NAME': 'kunal', 'age': 18}\n"
        }
      ],
      "execution_count": 49
    },
    {
      "id": "f84fb307-279f-4406-994f-4b06f1c5d5a9",
      "cell_type": "code",
      "source": "#27. Write a code to create a list of 5 random numbers between 1 and 100, sort it in ascending order, and print the\n#result.(replaced)\nA=[1,3,45,87,55]\nsorted(A)\n\n",
      "metadata": {
        "trusted": true
      },
      "outputs": [
        {
          "execution_count": 52,
          "output_type": "execute_result",
          "data": {
            "text/plain": "[1, 3, 45, 55, 87]"
          },
          "metadata": {}
        }
      ],
      "execution_count": 52
    },
    {
      "id": "c1a806f2-d78b-4f10-94b3-73ebc8fe6cdb",
      "cell_type": "code",
      "source": "#28. Write a code to create a list with strings and print the element at the third index.\nA=[\"apple\",\"banana\",\"kiwi\",\"protein\"]\nA[3]",
      "metadata": {
        "trusted": true
      },
      "outputs": [
        {
          "execution_count": 56,
          "output_type": "execute_result",
          "data": {
            "text/plain": "'protein'"
          },
          "metadata": {}
        }
      ],
      "execution_count": 56
    },
    {
      "id": "b3de9d67-a4b8-4284-aa96-7f81157a5a29",
      "cell_type": "code",
      "source": "#29. Write a code to combine two dictionaries into one and print the result.\nA={\"d\":5,\"e\":9}\nB={\"q\":6,\"u\":5}\nA.update(B)\nA",
      "metadata": {
        "trusted": true
      },
      "outputs": [
        {
          "execution_count": 63,
          "output_type": "execute_result",
          "data": {
            "text/plain": "{'d': 5, 'e': 9, 'q': 6, 'u': 5}"
          },
          "metadata": {}
        }
      ],
      "execution_count": 63
    },
    {
      "id": "cbf456a7-f2c5-4217-b46d-4abde73e536a",
      "cell_type": "code",
      "source": "#30. Write a code to convert a list of strings into a set.\nA=[\"apple\", \"banana\", \"orange\", \"apple\", \"grape\", \"banana\"]\nB=set(A)",
      "metadata": {
        "trusted": true
      },
      "outputs": [],
      "execution_count": 64
    },
    {
      "id": "6234643e-32de-413a-8911-7c1dc7f64188",
      "cell_type": "code",
      "source": "print(B)",
      "metadata": {
        "trusted": true
      },
      "outputs": [
        {
          "name": "stdout",
          "output_type": "stream",
          "text": "{'orange', 'grape', 'banana', 'apple'}\n"
        }
      ],
      "execution_count": 65
    },
    {
      "id": "fb2add36-9ba0-4a0d-b9f4-6e3bfa5c6737",
      "cell_type": "code",
      "source": "",
      "metadata": {
        "trusted": true
      },
      "outputs": [],
      "execution_count": null
    }
  ]
}